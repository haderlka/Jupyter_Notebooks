{
 "cells": [
  {
   "cell_type": "markdown",
   "metadata": {},
   "source": [
    "# Assignment Problem solved with Linear Programming\n",
    "So a friend of mine is working at a university. Once a semester his students get the task to read and present a research paper. He is offering them a catalogue of suitable papers and they rate their favorite ones from prio 1 to 5.\n",
    "After all students gave him their feedback, he is left with a table which looks something like this:  \n",
    "![table_paper_students](table_paper_students.png)\n",
    "The idea is that every paper is only selected by one student. His task now is to distrubute the papers to the students so that most of them get one of their top priorities. How to find the optimal distribution?\n",
    "\n",
    "The titel does already spoil it, we can apply linear programming. We want to find a solution which minimizes the sum of all selected priorities. The priority can also be considered as a weight $w_{ij}$ of an edge between student $i$ and paper $j$ in an [bipartite graph](https://en.wikipedia.org/wiki/Bipartite_graph#/media/File:Simple-bipartite-graph.svg).  \n",
    "We need an additional variable $x_{ij}$ to describe the linear problem:  \n",
    "Eq0. \n",
    "$$x_{ij} = \\begin{cases} 1 \\text{, if paper $j$ is assigned to student $i$}\\\\ 0 \\text{, else} \\end{cases}$$  \n",
    "With these to variables the objective can be written as \n",
    "\n",
    "Eq1.  \n",
    "$$\\text{min } \\sum_{(i,j \\in AxT)} w_{ij} x_{ij}$$\n",
    "\n",
    "The next step is to think about the constraints of the problem. Every student (out of $A$ total students) has to present one paper (out of $T$ total papers) which means  \n",
    "\n",
    "Eq2. \n",
    "$$\\sum_{j=1}^{T}{x_{ij}=1} \\text{, for every student $i$}$$  \n",
    "\n",
    "Another constrains is that each paper is only presented by one student, but if there are more papers then students then not all papers will be selected. We can describe these sentences as follows:  \n",
    "\n",
    "Eq3. \n",
    "$$\\sum_{i=1}^{A}{x_{ij} \\leq 1} \\text{, for every paper $j$}$$  \n",
    "\n",
    "\n",
    "\n",
    "Sources:  \n",
    "[Wikipedia - Assignment Problem](https://en.wikipedia.org/wiki/Assignment_problem)\n",
    "\n"
   ]
  },
  {
   "cell_type": "markdown",
   "metadata": {},
   "source": [
    "### Example \n",
    "In this section we apply linear programming to a simplified problem which is described by the following code. Note that the students here only selected with prio 1-3. Since we want to minimize the problem we punish empty cells / not selected papers with a weight of 9 (other weights greater that 3 are feasible)."
   ]
  },
  {
   "cell_type": "code",
   "execution_count": 1,
   "metadata": {},
   "outputs": [],
   "source": [
    "column_labels = [\"Student A\", \"Student_B\", \"Student_C\"]\n",
    "row_labels    = [\"Paper 1\", \"Paper 2\", \"Paper 3\", \"Paper 4\",\"Paper 5\"]\n",
    "prio_matrix   = [[9, 9, 9], \n",
    "                 [1, 2, 2],\n",
    "                 [9, 3, 9],\n",
    "                 [2, 1, 1],\n",
    "                 [3, 9, 3],]\n",
    "\n",
    "columns = len(prio_matrix[0])\n",
    "rows = len(prio_matrix)"
   ]
  },
  {
   "cell_type": "markdown",
   "metadata": {},
   "source": [
    "We will use [lineprog](https://docs.scipy.org/doc/scipy/reference/generated/scipy.optimize.linprog.html) of the [SciPy](https://docs.scipy.org/doc/scipy/reference/index.html) library to solve the optimization problem.\n",
    "Since lineprog only solves linear equation, the function only expects $w$ as an input and will automatically minimize $w^T x$ internally.  \n",
    "$$\n",
    "w^T x = \n",
    "\\begin{bmatrix} w_{11} & w_{12} & w_{13} & w_{21} & \\dots & w_{51} & w_{52} & w_{53}\\end{bmatrix}\n",
    "\\begin{bmatrix} x_{11} \\\\ x_{12} \\\\ x_{13} \\\\ x_{21} \\\\ \\dots \\\\ x_{51} \\\\ x_{52} \\\\ x_{53} \\end{bmatrix}\n",
    "$$"
   ]
  },
  {
   "cell_type": "code",
   "execution_count": 2,
   "metadata": {},
   "outputs": [],
   "source": [
    "w = [item for sublist in prio_matrix for item in sublist]  # [row1, row2, ...]"
   ]
  },
  {
   "cell_type": "markdown",
   "metadata": {},
   "source": [
    "Next we need to formulate the equality constraints from Eq2. in the form:  \n",
    "$A_{eq} x = b_{eq}$  \n",
    "for our example:  \n",
    "$$\n",
    "\\begin{bmatrix} \n",
    "1 & 0 & 0 & 1 & 0 & 0 & 1 & 0 & 0 & 1 & 0 & 0 & 1 & 0 & 0 \\\\\n",
    "0 & 1 & 0 & 0 & 1 & 0 & 0 & 1 & 0 & 0 & 1 & 0 & 0 & 1 & 0 \\\\\n",
    "0 & 0 & 1 & 0 & 0 & 1 & 0 & 0 & 1 & 0 & 0 & 1 & 0 & 0 & 1 \n",
    "\\end{bmatrix}\n",
    "\\begin{bmatrix} \n",
    "x_{11} \\\\ x_{12} \\\\ x_{13} \\\\ x_{21} \\\\ \\dots \\\\ x_{51} \\\\ x_{52} \\\\ x_{53} \n",
    "\\end{bmatrix}\n",
    "=\n",
    "\\begin{bmatrix} \n",
    "1 \\\\ 1 \\\\ 1 \n",
    "\\end{bmatrix}\n",
    "$$"
   ]
  },
  {
   "cell_type": "code",
   "execution_count": 3,
   "metadata": {},
   "outputs": [],
   "source": [
    "A_eq = [[0 for i in range(columns*rows)] for j in range(columns)]\n",
    "for m in range(columns):        \n",
    "    for n in range(m, columns*rows, columns):\n",
    "        A_eq[m][n] = 1\n",
    "b_eq = [1]*columns"
   ]
  },
  {
   "cell_type": "markdown",
   "metadata": {},
   "source": [
    "And the upper bound constraints from Eq3. need the form   \n",
    "$A_{ub} x \\leq b_{ub}$    \n",
    "for our example:  \n",
    "$$\n",
    "\\begin{bmatrix} \n",
    "1 & 1 & 1 & 0 & 0 & 0 & 0 & 0 & 0 & 0 & 0 & 0 & 0 & 0 & 0 \\\\\n",
    "0 & 0 & 0 & 1 & 1 & 1 & 0 & 0 & 0 & 0 & 0 & 0 & 0 & 0 & 0 \\\\\n",
    "0 & 0 & 0 & 0 & 0 & 0 & 1 & 1 & 1 & 0 & 0 & 0 & 0 & 0 & 0 \\\\\n",
    "0 & 0 & 0 & 0 & 0 & 0 & 0 & 0 & 0 & 1 & 1 & 1 & 0 & 0 & 0 \\\\\n",
    "0 & 0 & 0 & 0 & 0 & 0 & 0 & 0 & 0 & 0 & 0 & 0 & 1 & 1 & 1 \\\\\n",
    "\\end{bmatrix}\n",
    "\\begin{bmatrix} \n",
    "x_{11} \\\\ x_{12} \\\\ x_{13} \\\\ x_{21} \\\\ \\dots \\\\ x_{51} \\\\ x_{52} \\\\ x_{53} \n",
    "\\end{bmatrix}\n",
    "\\leq\n",
    "\\begin{bmatrix} \n",
    "1 \\\\ 1 \\\\ 1 \\\\ 1 \\\\ 1\n",
    "\\end{bmatrix}\n",
    "$$"
   ]
  },
  {
   "cell_type": "code",
   "execution_count": 4,
   "metadata": {},
   "outputs": [],
   "source": [
    "A_ub = [[0 for i in range(columns*rows)] for j in range(rows)]\n",
    "for m in range(0,rows):\n",
    "    for n in range(0, columns*rows):\n",
    "        if m*columns <= n < m*columns+columns:\n",
    "            A_ub[m][n] = 1\n",
    "b_ub = [1]*rows  "
   ]
  },
  {
   "cell_type": "markdown",
   "metadata": {},
   "source": [
    "Last we need the bounds of each $x_{ij}$ which is given by the definition in Eq.0"
   ]
  },
  {
   "cell_type": "code",
   "execution_count": 5,
   "metadata": {},
   "outputs": [],
   "source": [
    "x_bounds = [(0, 1)]*columns*rows"
   ]
  },
  {
   "cell_type": "markdown",
   "metadata": {},
   "source": [
    "Now we are ready to run the optimization"
   ]
  },
  {
   "cell_type": "code",
   "execution_count": 6,
   "metadata": {},
   "outputs": [
    {
     "name": "stdout",
     "output_type": "stream",
     "text": [
      "Cost: 5\n",
      "{'Student A': 'Paper 2', 'Student_B': 'Paper 3', 'Student_C': 'Paper 4'}\n"
     ]
    }
   ],
   "source": [
    "from scipy.optimize import linprog\n",
    "\n",
    "linprog_result = linprog(c=w, \n",
    "                         A_ub=A_ub, b_ub=b_ub, \n",
    "                         A_eq=A_eq, b_eq=b_eq, \n",
    "                         bounds=x_bounds, method='interior-point')\n",
    "\n",
    "# Map parameter result to a dict\n",
    "x_result = linprog_result.x.tolist()\n",
    "x_result = [int(round(el)) for el in x_result]\n",
    "i = 0\n",
    "dict = {} \n",
    "for row in row_labels:\n",
    "     for col in column_labels:\n",
    "        if  x_result[i] == 1:\n",
    "            dict.update({col:row})\n",
    "        i +=1\n",
    "    \n",
    "print(f\"Cost: {int(linprog_result.fun)}\")\n",
    "print(dict)"
   ]
  },
  {
   "cell_type": "markdown",
   "metadata": {},
   "source": [
    "This is the solution for our example. Whats left to do is pack all the code shown above into a function so my friend is ready to throw his paper distributions at it each semester."
   ]
  },
  {
   "cell_type": "code",
   "execution_count": 7,
   "metadata": {},
   "outputs": [],
   "source": [
    "from scipy.optimize import linprog\n",
    "\n",
    "def solve_assignment(cost_matrix, col_labels, row_labels):\n",
    "    # Calculate matrix dimensions\n",
    "    columns = len(cost_matrix[0])\n",
    "    rows = len(cost_matrix)\n",
    "\n",
    "    # Formulate optimization problem\n",
    "    # Objective function is to minimize w*x\n",
    "    w = [item for sublist in cost_matrix for item in sublist]  # [row1, row2, ...]\n",
    "    \n",
    "    # Inequality constraints\n",
    "    # A_ub*x <= b\n",
    "    A_ub = [[0 for i in range(columns*rows)] for j in range(rows)]\n",
    "    for m in range(0,rows):\n",
    "        for n in range(0, columns*rows):\n",
    "            if m*columns <= n < m*columns+columns:\n",
    "                A_ub[m][n] = 1\n",
    "    b_ub = [1]*rows           \n",
    "    # Equality constraints\n",
    "    # A_eq*x = b\n",
    "    A_eq = [[0 for i in range(columns*rows)] for j in range(columns)]\n",
    "    for m in range(columns):        \n",
    "        for n in range(m, columns*rows, columns):\n",
    "            A_eq[m][n] = 1\n",
    "    b_eq = [1]*columns\n",
    "    \n",
    "    # X bounds\n",
    "    x_bounds = [(0, 1)]*columns*rows\n",
    "    \n",
    "    # Run optimization\n",
    "    linprog_result = linprog(c=w, \n",
    "                             A_ub=A_ub, b_ub=b_ub, \n",
    "                             A_eq=A_eq, b_eq=b_eq, \n",
    "                             bounds=x_bounds, method='interior-point')\n",
    "    # Beautify result\n",
    "    # Get resulting parameters\n",
    "    x_result = linprog_result.x.tolist()\n",
    "    x_result = [int(round(el)) for el in x_result]\n",
    "    # Map parameter result to labels\n",
    "    i = 0\n",
    "    dict = {} \n",
    "    for row in row_labels:\n",
    "         for col in col_labels:\n",
    "            if  x_result[i] == 1:\n",
    "                dict.update({col:row})\n",
    "            i +=1\n",
    "    print(f\"Cost: {int(linprog_result.fun)}\")\n",
    "    return dict"
   ]
  },
  {
   "cell_type": "code",
   "execution_count": 8,
   "metadata": {},
   "outputs": [
    {
     "name": "stdout",
     "output_type": "stream",
     "text": [
      "Cost: 5\n"
     ]
    },
    {
     "data": {
      "text/plain": [
       "{'Student A': 'Paper 2', 'Student_B': 'Paper 3', 'Student_C': 'Paper 4'}"
      ]
     },
     "execution_count": 8,
     "metadata": {},
     "output_type": "execute_result"
    }
   ],
   "source": [
    "solve_assignment(prio_matrix, column_labels, row_labels)  "
   ]
  }
 ],
 "metadata": {
  "kernelspec": {
   "display_name": "Python 3",
   "language": "python",
   "name": "python3"
  },
  "language_info": {
   "codemirror_mode": {
    "name": "ipython",
    "version": 3
   },
   "file_extension": ".py",
   "mimetype": "text/x-python",
   "name": "python",
   "nbconvert_exporter": "python",
   "pygments_lexer": "ipython3",
   "version": "3.8.2"
  }
 },
 "nbformat": 4,
 "nbformat_minor": 4
}
